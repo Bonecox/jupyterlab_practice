{
 "cells": [
  {
   "cell_type": "markdown",
   "id": "13ef9891-9a71-4e97-b190-75c09d0690b4",
   "metadata": {
    "tags": []
   },
   "source": [
    "# Lucas Gusmao Araujo\n",
    "Notebook for assignment 7"
   ]
  },
  {
   "cell_type": "code",
   "execution_count": 1,
   "id": "8ee5b182-4534-4fea-8922-09ee04e83ca0",
   "metadata": {
    "tags": []
   },
   "outputs": [
    {
     "data": {
      "text/plain": [
       "5.0"
      ]
     },
     "execution_count": 1,
     "metadata": {},
     "output_type": "execute_result"
    }
   ],
   "source": [
    "def compute_mean(list):\n",
    "    return sum(list) / len(list)\n",
    "    \n",
    "compute_mean([2, 4, 6, 8])"
   ]
  },
  {
   "cell_type": "markdown",
   "id": "a38b0fb2-9173-4cf4-b1eb-208bc77577d1",
   "metadata": {},
   "source": [
    "$$\n",
    "average = \\frac{1}{n}\\Sigma^{n}_{i=1}x_{i}\n",
    "$$"
   ]
  },
  {
   "cell_type": "markdown",
   "id": "1f2dbda2-84ab-41ac-a1de-0eff6fe4b187",
   "metadata": {},
   "source": [
    "$$\n",
    "average = \\frac{x_{1} + x_{2} + ... + x_{n}}{n}\n",
    "$$"
   ]
  }
 ],
 "metadata": {
  "kernelspec": {
   "display_name": "Python 3 (ipykernel)",
   "language": "python",
   "name": "python3"
  },
  "language_info": {
   "codemirror_mode": {
    "name": "ipython",
    "version": 3
   },
   "file_extension": ".py",
   "mimetype": "text/x-python",
   "name": "python",
   "nbconvert_exporter": "python",
   "pygments_lexer": "ipython3",
   "version": "3.11.5"
  }
 },
 "nbformat": 4,
 "nbformat_minor": 5
}
